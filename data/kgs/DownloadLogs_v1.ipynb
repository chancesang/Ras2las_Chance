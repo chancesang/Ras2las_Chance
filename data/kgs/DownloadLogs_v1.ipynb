{
 "cells": [
  {
   "cell_type": "code",
   "execution_count": 16,
   "metadata": {},
   "outputs": [],
   "source": [
    "import pandas as pd\n",
    "import zipfile; import os; import urllib"
   ]
  },
  {
   "cell_type": "code",
   "execution_count": 18,
   "metadata": {},
   "outputs": [],
   "source": [
    "## Download and unzip databases from KGS to a temp folder\n",
    "os.makedirs('./temp', exist_ok=True)\n",
    "raspath = 'http://www.kgs.ku.edu/PRS/Ora_Archive/ks_elog_scans.zip'\n",
    "laspath = 'http://www.kgs.ku.edu/PRS/Ora_Archive/ks_las_files.zip'\n",
    "\n",
    "ras_handle, _ = urllib.request.urlretrieve(raspath)\n",
    "las_handle, _ = urllib.request.urlretrieve(laspath)\n",
    "\n",
    "with zipfile.ZipFile(ras_handle,'r') as zip_ras:\n",
    "    zip_ras.extractall('temp')\n",
    "with zipfile.ZipFile(las_handle,'r') as zip_las:\n",
    "    zip_las.extractall('temp')"
   ]
  },
  {
   "cell_type": "markdown",
   "metadata": {},
   "source": [
    "Elogs is collection of KGS TIFF files; las is KGS .las files"
   ]
  },
  {
   "cell_type": "code",
   "execution_count": 57,
   "metadata": {},
   "outputs": [],
   "source": [
    "elogs = pd.read_csv('temp/ks_elog_scans.txt', parse_dates=True)\n",
    "lases = pd.read_csv('temp/ks_las_files.txt', parse_dates=True)"
   ]
  },
  {
   "cell_type": "code",
   "execution_count": 79,
   "metadata": {},
   "outputs": [
    {
     "name": "stdout",
     "output_type": "stream",
     "text": [
      "How many logs fall in both and have unique KGS_ID? 14289\n"
     ]
    },
    {
     "data": {
      "text/plain": [
       "200008    1044210474\n",
       "200027    1044194936\n",
       "200035    1044190116\n",
       "200038    1044202126\n",
       "200050    1044186093\n",
       "200052    1044199083\n",
       "200058    1044191408\n",
       "200062    1044177946\n",
       "200063    1044177947\n",
       "200064    1044195244\n",
       "200065    1044177937\n",
       "200066    1044177518\n",
       "200067    1044194723\n",
       "200072    1044186106\n",
       "200077    1044182654\n",
       "200084    1044182652\n",
       "200098    1044164588\n",
       "200140    1006034398\n",
       "200428    1006051542\n",
       "200478    1006051252\n",
       "200650    1044943927\n",
       "200653    1044637777\n",
       "200656    1044577457\n",
       "200674    1044631637\n",
       "200690    1044630102\n",
       "200716    1044581635\n",
       "200722    1044645563\n",
       "200728    1044640259\n",
       "200746    1044623272\n",
       "200748    1044578544\n",
       "             ...    \n",
       "201197    1001263343\n",
       "201502    1006077870\n",
       "201509    1006083641\n",
       "201600    1044959397\n",
       "201603    1044975022\n",
       "201606    1044964895\n",
       "201609    1044948610\n",
       "201612    1044228776\n",
       "201614    1044254903\n",
       "201617    1044628958\n",
       "201618    1044564354\n",
       "201625    1044640623\n",
       "201627    1044254181\n",
       "201632    1044564364\n",
       "201636    1044564355\n",
       "201637    1044569404\n",
       "201645    1044569422\n",
       "201650    1044569421\n",
       "201655    1044254152\n",
       "201660    1044572912\n",
       "201671    1044640605\n",
       "201673    1044640622\n",
       "201675    1044572425\n",
       "201679    1044574162\n",
       "201681    1044569405\n",
       "201686    1044574159\n",
       "201688    1044574160\n",
       "201690    1044574095\n",
       "201697    1044574094\n",
       "201698    1044574158\n",
       "Name: KID, Length: 139, dtype: int64"
      ]
     },
     "execution_count": 79,
     "metadata": {},
     "output_type": "execute_result"
    }
   ],
   "source": [
    "elogs_mask = elogs['KID'].isin(lases['KGS_ID'])  # Create mask for elogs\n",
    "both_elog = elogs[elogs_mask] # select items elog that fall in both\n",
    "both_elog_unique = both_elog.drop_duplicates('KID') # remove duplicates\n",
    "print('How many logs fall in both and have unique KGS_ID? '+str(both_elog_unique.shape[0]))\n",
    "both_elog_unique_new = both_elog_unique.loc['2000-1-1' : '2017-1-1']\n",
    "both_elog_unique_new['KID']"
   ]
  },
  {
   "cell_type": "code",
   "execution_count": 59,
   "metadata": {},
   "outputs": [
    {
     "name": "stdout",
     "output_type": "stream",
     "text": [
      "Other direction -- how many logs fall in both and have unique KGS_ID? 14289\n",
      "Same in both directions.\n"
     ]
    }
   ],
   "source": [
    "lases_mask = lases['KGS_ID'].isin(elogs['KID'])  # Create mask for elogs\n",
    "both_lases = lases[las_mask] # select items elog that fall in both\n",
    "both_lases_unique = both_lases.drop_duplicates('KGS_ID') # remove duplicates\n",
    "print('Other direction -- how many logs fall in both and have unique KGS_ID? '+str(both_lases_unique.shape[0]))\n",
    "if both_elog_unique.shape[0] == both_lases_unique.shape[0]:\n",
    "    print('Same in both directions.')"
   ]
  },
  {
   "cell_type": "code",
   "execution_count": 60,
   "metadata": {},
   "outputs": [
    {
     "data": {
      "text/plain": [
       "True"
      ]
     },
     "execution_count": 60,
     "metadata": {},
     "output_type": "execute_result"
    }
   ],
   "source": [
    "elogs_hasdup_bool = elogs['KID'].isin(elogs[elogs.duplicated('KID')]['KID'])\n",
    "elogs_nodup = elogs[-elogs_hasdup_bool]\n",
    "elogs_nodup.shape # How many logs have no duplicate?\n",
    "elogs_nodup.drop_duplicates('KID').shape == elogs_nodup.shape"
   ]
  },
  {
   "cell_type": "code",
   "execution_count": 61,
   "metadata": {},
   "outputs": [
    {
     "data": {
      "text/plain": [
       "(13867, 12)"
      ]
     },
     "execution_count": 61,
     "metadata": {},
     "output_type": "execute_result"
    }
   ],
   "source": [
    "lases_hasdup_bool = lases['KGS_ID'].isin(lases[lases.duplicated('KGS_ID')]['KGS_ID'])\n",
    "lases_nodup = lases[-lases_hasdup_bool]\n",
    "lases_nodup.shape # How many logs have no duplicate?\n",
    "# lases_nodup.drop_duplicates('KGS_ID').shape == lases_nodup.shape"
   ]
  },
  {
   "cell_type": "markdown",
   "metadata": {},
   "source": [
    "### Trying again after filtering out any wells that have duplicate logs"
   ]
  },
  {
   "cell_type": "code",
   "execution_count": 62,
   "metadata": {},
   "outputs": [
    {
     "name": "stdout",
     "output_type": "stream",
     "text": [
      "How many logs fall in both and have unique KGS_ID?   1736\n",
      "From other direction -- how many logs fall in both and have unique KGS_ID?   1736\n"
     ]
    }
   ],
   "source": [
    "elogs_nodup_mask = elogs_nodup['KID'].isin(lases_nodup['KGS_ID'])  # Create mask for elogs\n",
    "both_elog_nodup = elogs_nodup[elogs_nodup_mask] # select items elog that fall in both\n",
    "print('How many logs fall in both and have unique KGS_ID?   '+str(both_elog_nodup.shape[0]))\n",
    "\n",
    "lases_nodup_mask = lases_nodup['KGS_ID'].isin(elogs_nodup['KID'])  # Create mask for elogs\n",
    "both_lases_nodup = lases_nodup[lases_nodup_mask] # select items elog that fall in both\n",
    "print('From other direction -- how many logs fall in both and have unique KGS_ID?   '+str(both_lases_nodup.shape[0]))"
   ]
  },
  {
   "cell_type": "markdown",
   "metadata": {},
   "source": [
    "### Select logs from 1980 onward"
   ]
  },
  {
   "cell_type": "code",
   "execution_count": 70,
   "metadata": {},
   "outputs": [
    {
     "data": {
      "text/plain": [
       "(17, 32)"
      ]
     },
     "execution_count": 70,
     "metadata": {},
     "output_type": "execute_result"
    }
   ],
   "source": [
    "both_elog_nodup.loc['1980-1-1' : '2017-1-1'].shape"
   ]
  }
 ],
 "metadata": {
  "kernelspec": {
   "display_name": "Python 3",
   "language": "python",
   "name": "python3"
  },
  "language_info": {
   "codemirror_mode": {
    "name": "ipython",
    "version": 3
   },
   "file_extension": ".py",
   "mimetype": "text/x-python",
   "name": "python",
   "nbconvert_exporter": "python",
   "pygments_lexer": "ipython3",
   "version": "3.6.1"
  }
 },
 "nbformat": 4,
 "nbformat_minor": 2
}
