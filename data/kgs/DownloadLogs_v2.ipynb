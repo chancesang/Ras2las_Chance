{
 "cells": [
  {
   "cell_type": "code",
   "execution_count": 130,
   "metadata": {},
   "outputs": [],
   "source": [
    "import pandas as pd\n",
    "import zipfile; import os; import urllib\n",
    "import lasio; import matplotlib.pyplot as plt; import welly; from welly import Well\n",
    "% matplotlib inline"
   ]
  },
  {
   "cell_type": "code",
   "execution_count": 18,
   "metadata": {},
   "outputs": [],
   "source": [
    "## Download and unzip databases from KGS to a temp folder\n",
    "os.makedirs('./temp', exist_ok=True)\n",
    "raspath = 'http://www.kgs.ku.edu/PRS/Ora_Archive/ks_elog_scans.zip'\n",
    "laspath = 'http://www.kgs.ku.edu/PRS/Ora_Archive/ks_las_files.zip'\n",
    "\n",
    "ras_handle, _ = urllib.request.urlretrieve(raspath)\n",
    "las_handle, _ = urllib.request.urlretrieve(laspath)\n",
    "\n",
    "with zipfile.ZipFile(ras_handle,'r') as zip_ras:\n",
    "    zip_ras.extractall('temp')\n",
    "with zipfile.ZipFile(las_handle,'r') as zip_las:\n",
    "    zip_las.extractall('temp')"
   ]
  },
  {
   "cell_type": "markdown",
   "metadata": {},
   "source": [
    "Elogs is collection of KGS TIFF files; lases is KGS .las files"
   ]
  },
  {
   "cell_type": "code",
   "execution_count": 57,
   "metadata": {},
   "outputs": [],
   "source": [
    "elogs = pd.read_csv('temp/ks_elog_scans.txt', parse_dates=True)\n",
    "lases = pd.read_csv('temp/ks_las_files.txt', parse_dates=True)"
   ]
  },
  {
   "cell_type": "code",
   "execution_count": 83,
   "metadata": {},
   "outputs": [
    {
     "name": "stdout",
     "output_type": "stream",
     "text": [
      "How many logs fall in both and have unique KGS_ID? 14289\n"
     ]
    }
   ],
   "source": [
    "elogs_mask = elogs['KID'].isin(lases['KGS_ID'])  # Create mask for elogs\n",
    "both_elog = elogs[elogs_mask] # select items elog that fall in both\n",
    "both_elog.drop_duplicates('KID') # remove duplicates\n",
    "print('How many logs fall in both and have unique KGS_ID? '+str(both_elog_unique.shape[0]))\n",
    "both_elog_unique_new = both_elog_unique.loc['2000-1-1' : '2017-1-1']\n",
    "both_elog_unique_new;"
   ]
  },
  {
   "cell_type": "code",
   "execution_count": 84,
   "metadata": {},
   "outputs": [
    {
     "name": "stdout",
     "output_type": "stream",
     "text": [
      "Other direction -- how many logs fall in both and have unique KGS_ID? 14289\n",
      "Same in both directions.\n"
     ]
    }
   ],
   "source": [
    "lases_mask = lases['KGS_ID'].isin(elogs['KID'])  # Create mask for elogs\n",
    "both_lases = lases[las_mask] # select items elog that fall in both\n",
    "both_lases_unique = both_lases.drop_duplicates('KGS_ID') # remove duplicates\n",
    "print('Other direction -- how many logs fall in both and have unique KGS_ID? '+str(both_lases_unique.shape[0]))\n",
    "if both_elog_unique.shape[0] == both_lases_unique.shape[0]:\n",
    "    print('Same in both directions.')\n",
    "both_lases_unique;"
   ]
  },
  {
   "cell_type": "markdown",
   "metadata": {},
   "source": [
    "Download a random las file, unzip, and render with lasio"
   ]
  },
  {
   "cell_type": "code",
   "execution_count": 108,
   "metadata": {},
   "outputs": [],
   "source": [
    "# Each time you run this you'll get a new las file, so...\n",
    "randomlas_line = both_lases_unique.loc['2000-1-1' : '2017-1-1'].sample(n=1)"
   ]
  },
  {
   "cell_type": "code",
   "execution_count": 109,
   "metadata": {},
   "outputs": [
    {
     "data": {
      "text/html": [
       "<div>\n",
       "<style>\n",
       "    .dataframe thead tr:only-child th {\n",
       "        text-align: right;\n",
       "    }\n",
       "\n",
       "    .dataframe thead th {\n",
       "        text-align: left;\n",
       "    }\n",
       "\n",
       "    .dataframe tbody tr th {\n",
       "        vertical-align: top;\n",
       "    }\n",
       "</style>\n",
       "<table border=\"1\" class=\"dataframe\">\n",
       "  <thead>\n",
       "    <tr style=\"text-align: right;\">\n",
       "      <th></th>\n",
       "      <th>KGS_ID</th>\n",
       "      <th>Latitude</th>\n",
       "      <th>Longitude</th>\n",
       "      <th>Location</th>\n",
       "      <th>Operator</th>\n",
       "      <th>Lease</th>\n",
       "      <th>API</th>\n",
       "      <th>Elevation</th>\n",
       "      <th>Elev_Ref</th>\n",
       "      <th>Depth_start</th>\n",
       "      <th>Depth_stop</th>\n",
       "      <th>URL</th>\n",
       "    </tr>\n",
       "  </thead>\n",
       "  <tbody>\n",
       "    <tr>\n",
       "      <th>2013</th>\n",
       "      <td>1044186387</td>\n",
       "      <td>37.405423</td>\n",
       "      <td>-95.67953</td>\n",
       "      <td>T30S R16E, Sec. 29,  SE NE NE SW</td>\n",
       "      <td>A X &amp; P, Inc.</td>\n",
       "      <td>Unit 1 - Wolfe West WW 29-H</td>\n",
       "      <td>15-205-28064</td>\n",
       "      <td>803.0</td>\n",
       "      <td>KB</td>\n",
       "      <td>-5.25</td>\n",
       "      <td>842.0</td>\n",
       "      <td>http://www.kgs.ku.edu/WellLogs/kcc_logs_2014/1...</td>\n",
       "    </tr>\n",
       "  </tbody>\n",
       "</table>\n",
       "</div>"
      ],
      "text/plain": [
       "          KGS_ID   Latitude  Longitude                          Location  \\\n",
       "2013  1044186387  37.405423  -95.67953  T30S R16E, Sec. 29,  SE NE NE SW   \n",
       "\n",
       "           Operator                        Lease           API  Elevation  \\\n",
       "2013  A X & P, Inc.  Unit 1 - Wolfe West WW 29-H  15-205-28064      803.0   \n",
       "\n",
       "     Elev_Ref  Depth_start  Depth_stop  \\\n",
       "2013       KB        -5.25       842.0   \n",
       "\n",
       "                                                    URL  \n",
       "2013  http://www.kgs.ku.edu/WellLogs/kcc_logs_2014/1...  "
      ]
     },
     "execution_count": 109,
     "metadata": {},
     "output_type": "execute_result"
    }
   ],
   "source": [
    "str(randomlas_line['URL'])\n",
    "randomlas_line"
   ]
  },
  {
   "cell_type": "code",
   "execution_count": 110,
   "metadata": {},
   "outputs": [],
   "source": [
    "randomlas_url = randomlas_line['URL'].tolist()[0]\n",
    "randomlas_dl, _ = urllib.request.urlretrieve(randomlas_url)\n",
    "\n",
    "with zipfile.ZipFile(randomlas_dl,'r') as zip_randomlas:\n",
    "    zip_randomlas.extractall('temp')"
   ]
  },
  {
   "cell_type": "code",
   "execution_count": 111,
   "metadata": {},
   "outputs": [
    {
     "data": {
      "text/plain": [
       "1044186387"
      ]
     },
     "execution_count": 111,
     "metadata": {},
     "output_type": "execute_result"
    }
   ],
   "source": [
    "randomlas_line['KGS_ID'].tolist()[0]"
   ]
  },
  {
   "cell_type": "markdown",
   "metadata": {},
   "source": [
    "## Read in well log and display using welly"
   ]
  },
  {
   "cell_type": "code",
   "execution_count": 144,
   "metadata": {},
   "outputs": [
    {
     "data": {
      "image/png": "[encoded data removed]",
      "text/plain": [
       "<matplotlib.figure.Figure at 0x194b6556518>"
      ]
     },
     "metadata": {},
     "output_type": "display_data"
    }
   ],
   "source": [
    "l = Well.from_las('temp/1044249438.las') # hardcoded until I figure out how to get filename\n",
    "l.data['GR'];\n",
    "# l.plot(tracks = [['GR','NEU']]);\n",
    "l.data['GR'].plot(lw=0.5)"
   ]
  },
  {
   "cell_type": "markdown",
   "metadata": {},
   "source": [
    "### Next steps:\n",
    "+ Connect tiff files (format) with log curves from lases -- will need to use welly dictionary (?)\n",
    "+ Create function to download a random subset of paired las / tiff files\n",
    "+ Parameters: Number of files to download; date range\n",
    "+ Returns: consistently named, paired training data"
   ]
  }
 ],
 "metadata": {
  "kernelspec": {
   "display_name": "Python 3",
   "language": "python",
   "name": "python3"
  },
  "language_info": {
   "codemirror_mode": {
    "name": "ipython",
    "version": 3
   },
   "file_extension": ".py",
   "mimetype": "text/x-python",
   "name": "python",
   "nbconvert_exporter": "python",
   "pygments_lexer": "ipython3",
   "version": "3.6.1"
  }
 },
 "nbformat": 4,
 "nbformat_minor": 2
}
