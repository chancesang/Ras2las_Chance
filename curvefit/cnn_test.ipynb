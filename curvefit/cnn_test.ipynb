{
 "cells": [
  {
   "cell_type": "code",
   "execution_count": 1,
   "metadata": {
    "collapsed": true
   },
   "outputs": [],
   "source": [
    "import pylab as plt\n",
    "# %matplotlib inline"
   ]
  },
  {
   "cell_type": "code",
   "execution_count": 2,
   "metadata": {
    "collapsed": true
   },
   "outputs": [],
   "source": [
    "import numpy as np"
   ]
  },
  {
   "cell_type": "code",
   "execution_count": 3,
   "metadata": {},
   "outputs": [
    {
     "data": {
      "text/plain": [
       "array([ 15.44762597,  14.77146595,   6.52604096,  13.9179328 ,\n",
       "        15.59395171,  14.39875236,  13.30600798,   8.348056  ,\n",
       "        14.36287693,  14.89524903,  12.29141995,   6.7428686 ,\n",
       "        15.12847192,  14.83631901,   6.59593774,   7.14221878,\n",
       "         7.26644665,  10.04283419,  12.64196749,   6.58906788])"
      ]
     },
     "execution_count": 3,
     "metadata": {},
     "output_type": "execute_result"
    }
   ],
   "source": [
    "np.random.uniform(low=6, high=16, size=(20,))"
   ]
  },
  {
   "cell_type": "code",
   "execution_count": 16,
   "metadata": {
    "collapsed": true
   },
   "outputs": [],
   "source": [
    "def gen_im(n=1):\n",
    "    \n",
    "    rn = np.random.uniform(low=6, high=16, size=(20,))\n",
    "    # Make a random plot...\n",
    "    fig = plt.figure()\n",
    "    ax = fig.add_subplot(111)\n",
    "    ax.plot(rn,\"r\")\n",
    "    ax.grid()\n",
    "    \n",
    "    fig.set_size_inches(2,2)\n",
    "    fig.canvas.draw()\n",
    "\n",
    "    # Now we can save it to a numpy array.\n",
    "    data = np.fromstring(fig.canvas.tostring_rgb(), dtype=np.uint8, sep='')\n",
    "#     data = data.reshape(fig.canvas.get_width_height()[::-1] + (3,))\n",
    "    s = fig.canvas.get_width_height()[::-1]\n",
    "    plt.close('all')\n",
    "\n",
    "    return data, rn, s"
   ]
  },
  {
   "cell_type": "code",
   "execution_count": 17,
   "metadata": {
    "collapsed": true
   },
   "outputs": [],
   "source": [
    "def batch_gen(n=1):\n",
    "    for i in range(n):\n",
    "        if i==0:\n",
    "            arr, vals, s = gen_im()\n",
    "        else:\n",
    "            tmparr, tmpvals, s = gen_im()\n",
    "            arr = np.vstack((arr,tmparr))\n",
    "            vals = np.vstack((vals,tmpvals))\n",
    "            \n",
    "    arr = arr.reshape(arr.shape[0], s[0], s[0], 3)[:,:,:,:]\n",
    "    print(s)\n",
    "    return arr, vals"
   ]
  },
  {
   "cell_type": "code",
   "execution_count": 71,
   "metadata": {},
   "outputs": [
    {
     "name": "stdout",
     "output_type": "stream",
     "text": [
      "(144, 144)\n",
      "(144, 144)\n"
     ]
    }
   ],
   "source": [
    "x_train, y_train = batch_gen(n=1000)\n",
    "x_test, y_test = batch_gen(n=100)"
   ]
  },
  {
   "cell_type": "code",
   "execution_count": 72,
   "metadata": {},
   "outputs": [],
   "source": [
    "x_train = x_train[:,:,:,-1].reshape(*x_train.shape[:-1],1)\n",
    "x_test = x_test[:,:,:,-1].reshape(*x_test.shape[:-1],1)"
   ]
  },
  {
   "cell_type": "code",
   "execution_count": 73,
   "metadata": {},
   "outputs": [
    {
     "data": {
      "text/plain": [
       "(1000, 144, 144, 1)"
      ]
     },
     "execution_count": 73,
     "metadata": {},
     "output_type": "execute_result"
    }
   ],
   "source": [
    "x_train.shape"
   ]
  },
  {
   "cell_type": "code",
   "execution_count": 78,
   "metadata": {},
   "outputs": [
    {
     "name": "stdout",
     "output_type": "stream",
     "text": [
      "x_train shape: (1000, 144, 144, 1)\n",
      "1000 train samples\n",
      "100 test samples\n"
     ]
    }
   ],
   "source": [
    "import keras\n",
    "from keras.datasets import mnist\n",
    "from keras.layers import Dense, Flatten, Dropout\n",
    "from keras.layers import Conv2D, MaxPooling2D\n",
    "from keras.models import Sequential\n",
    "from keras import optimizers\n",
    "import matplotlib.pylab as plt\n",
    "\n",
    "batch_size = 100\n",
    "num_classes = 20\n",
    "epochs = 20\n",
    "\n",
    "# input image dimensions\n",
    "img_x, img_y = 144, 144\n",
    "\n",
    "# load the MNIST data set, which already splits into train and test sets for us\n",
    "# (x_train, y_train), (x_test, y_test) = mnist.load_data()\n",
    "\n",
    "\n",
    "\n",
    "# reshape the data into a 4D tensor - (sample_number, x_img_size, y_img_size, num_channels)\n",
    "# because the MNIST is greyscale, we only have a single channel - RGB colour images would have 3\n",
    "# x_train = x_train.reshape(x_train.shape[0], img_x, img_y, 1)\n",
    "# x_test = x_test.reshape(x_test.shape[0], img_x, img_y, 1)\n",
    "input_shape = (img_x, img_y, 1)\n",
    "\n",
    "# convert the data to the right type\n",
    "x_train = x_train.astype('float32')\n",
    "x_test = x_test.astype('float32')\n",
    "x_train /= 255\n",
    "x_test /= 255\n",
    "print('x_train shape:', x_train.shape)\n",
    "print(x_train.shape[0], 'train samples')\n",
    "print(x_test.shape[0], 'test samples')\n",
    "\n",
    "# convert class vectors to binary class matrices\n",
    "\n",
    "# categorical_crossentropy loss below\n",
    "# y_train = keras.utils.to_categorical(y_train, num_classes)\n",
    "# y_test = keras.utils.to_categorical(y_test, num_classes)\n"
   ]
  },
  {
   "cell_type": "code",
   "execution_count": 79,
   "metadata": {},
   "outputs": [],
   "source": [
    "model = Sequential()\n",
    "model.add(Conv2D(128, kernel_size=(6, 6), strides=(1, 1),\n",
    "                 activation='relu',\n",
    "                 input_shape=input_shape))\n",
    "model.add(MaxPooling2D(pool_size=(5, 5), strides=(2, 2)))\n",
    "model.add(Conv2D(65, (5, 5), activation='relu'))\n",
    "model.add(MaxPooling2D(pool_size=(2, 2)))\n",
    "model.add(Conv2D(128, (5, 5), activation='relu'))\n",
    "model.add(MaxPooling2D(pool_size=(2, 2)))\n",
    "model.add(Conv2D(128, (5, 5), activation='relu'))\n",
    "model.add(Flatten())\n",
    "model.add(Dropout(0.4))\n",
    "model.add(Dense(512, activation='relu'))\n",
    "model.add(Dropout(0.4))\n",
    "model.add(Dense(num_classes))\n",
    "\n",
    "# pool_size = 8\n",
    "# filter_size = 5\n",
    "\n",
    "# model = Sequential([\n",
    "#         Conv2D(32, 6, 6, input_shape=input_shape, activation='relu'), \n",
    "#         MaxPooling2D(pool_size=(pool_size, pool_size)), \n",
    "#         Conv2D(64, filter_size, filter_size, activation='relu'), \n",
    "#         MaxPooling2D(pool_size=(pool_size, pool_size)), \n",
    "#         Conv2D(128, filter_size, filter_size, activation='relu'), \n",
    "# # #         MaxPooling2D(pool_size=(pool_size, pool_size)), \n",
    "#         Conv2D(128, filter_size, filter_size, activation='relu'), \n",
    "# # #         MaxPooling2D(pool_size=(pool_size, pool_size)), \n",
    "#         Flatten(), \n",
    "#         Dropout(0.4), \n",
    "#         Dense(256, activation='relu'), \n",
    "#         Dropout(0.4), \n",
    "#         Dense(num_classes)\n",
    "#     ])\n",
    "\n",
    "# model.compile('adadelta', 'mse')\n",
    "sgd = optimizers.SGD(lr=0.01, decay=1e-6, momentum=0.9, nesterov=True)\n",
    "model.compile(loss=keras.losses.categorical_crossentropy,\n",
    "              optimizer=sgd,\n",
    "              metrics=['accuracy'])\n",
    "\n",
    "\n",
    "class AccuracyHistory(keras.callbacks.Callback):\n",
    "    def on_train_begin(self, logs={}):\n",
    "        self.acc = []\n",
    "\n",
    "    def on_epoch_end(self, batch, logs={}):\n",
    "        self.acc.append(logs.get('acc'))\n",
    "\n",
    "history = AccuracyHistory()"
   ]
  },
  {
   "cell_type": "code",
   "execution_count": 80,
   "metadata": {
    "scrolled": false
   },
   "outputs": [
    {
     "name": "stdout",
     "output_type": "stream",
     "text": [
      "Train on 1000 samples, validate on 100 samples\n",
      "Epoch 1/20\n",
      "1000/1000 [==============================] - 9s - loss: 2489.2457 - acc: 0.0410 - val_loss: 2688.6677 - val_acc: 0.0600\n",
      "Epoch 2/20\n",
      "1000/1000 [==============================] - 6s - loss: 2108.6980 - acc: 0.0440 - val_loss: 2675.9175 - val_acc: 0.0600\n",
      "Epoch 3/20\n",
      "1000/1000 [==============================] - 6s - loss: 2324.0158 - acc: 0.0440 - val_loss: 2675.9175 - val_acc: 0.0600\n",
      "Epoch 4/20\n",
      "1000/1000 [==============================] - 6s - loss: 2254.2978 - acc: 0.0440 - val_loss: 2675.9175 - val_acc: 0.0600\n",
      "Epoch 5/20\n",
      "1000/1000 [==============================] - 6s - loss: 2243.6381 - acc: 0.0440 - val_loss: 2675.9175 - val_acc: 0.0600\n",
      "Epoch 6/20\n",
      "1000/1000 [==============================] - 6s - loss: 2334.3701 - acc: 0.0440 - val_loss: 2675.9175 - val_acc: 0.0600\n",
      "Epoch 7/20\n",
      "1000/1000 [==============================] - 6s - loss: 2301.0186 - acc: 0.0440 - val_loss: 2675.9175 - val_acc: 0.0600\n",
      "Epoch 8/20\n",
      "1000/1000 [==============================] - 6s - loss: 2340.9468 - acc: 0.0440 - val_loss: 2675.9175 - val_acc: 0.0600\n",
      "Epoch 9/20\n",
      "1000/1000 [==============================] - 6s - loss: 2349.0269 - acc: 0.0440 - val_loss: 2675.9175 - val_acc: 0.0600\n",
      "Epoch 10/20\n",
      "1000/1000 [==============================] - 6s - loss: 2309.3746 - acc: 0.0440 - val_loss: 2675.9175 - val_acc: 0.0600\n",
      "Epoch 11/20\n",
      "1000/1000 [==============================] - 6s - loss: 2288.6401 - acc: 0.0440 - val_loss: 2675.9175 - val_acc: 0.0600\n",
      "Epoch 12/20\n",
      "1000/1000 [==============================] - 6s - loss: 2329.0992 - acc: 0.0440 - val_loss: 2675.9175 - val_acc: 0.0600\n",
      "Epoch 13/20\n",
      "1000/1000 [==============================] - 6s - loss: 2332.7510 - acc: 0.0440 - val_loss: 2675.9175 - val_acc: 0.0600\n",
      "Epoch 14/20\n",
      "1000/1000 [==============================] - 6s - loss: 2330.0214 - acc: 0.0440 - val_loss: 2675.9175 - val_acc: 0.0600\n",
      "Epoch 15/20\n",
      "1000/1000 [==============================] - 6s - loss: 2362.2511 - acc: 0.0440 - val_loss: 2675.9175 - val_acc: 0.0600\n",
      "Epoch 16/20\n",
      "1000/1000 [==============================] - 6s - loss: 2473.9242 - acc: 0.0440 - val_loss: 2675.9175 - val_acc: 0.0600\n",
      "Epoch 17/20\n",
      "1000/1000 [==============================] - 6s - loss: 2458.5294 - acc: 0.0440 - val_loss: 2675.9175 - val_acc: 0.0600\n",
      "Epoch 18/20\n",
      "1000/1000 [==============================] - 6s - loss: 2389.6237 - acc: 0.0440 - val_loss: 2675.9175 - val_acc: 0.0600\n",
      "Epoch 19/20\n",
      "1000/1000 [==============================] - 6s - loss: 2401.4728 - acc: 0.0440 - val_loss: 2675.9175 - val_acc: 0.0600\n",
      "Epoch 20/20\n",
      "1000/1000 [==============================] - 6s - loss: 2378.2057 - acc: 0.0440 - val_loss: 2675.9175 - val_acc: 0.0600\n",
      "Test loss: 2675.91753906\n",
      "Test accuracy: 0.06\n"
     ]
    },
    {
     "data": {
      "image/png": "[encoded data removed]",
      "text/plain": [
       "<matplotlib.figure.Figure at 0x7f3f53f56ba8>"
      ]
     },
     "metadata": {},
     "output_type": "display_data"
    }
   ],
   "source": [
    "model.fit(x_train, y_train,\n",
    "          batch_size=batch_size,\n",
    "          epochs=epochs,\n",
    "          verbose=1,\n",
    "          validation_data=(x_test, y_test),\n",
    "          callbacks=[history])\n",
    "score = model.evaluate(x_test, y_test, verbose=0)\n",
    "print('Test loss:', score[0])\n",
    "print('Test accuracy:', score[1])\n",
    "plt.plot(range(1, epochs+1), history.acc)\n",
    "plt.xlabel('Epochs')\n",
    "plt.ylabel('Accuracy')\n",
    "plt.show()"
   ]
  },
  {
   "cell_type": "code",
   "execution_count": 81,
   "metadata": {},
   "outputs": [
    {
     "data": {
      "image/png": "[encoded data removed]",
      "text/plain": [
       "<matplotlib.figure.Figure at 0x7f3f54250208>"
      ]
     },
     "metadata": {},
     "output_type": "display_data"
    }
   ],
   "source": [
    "plt.imshow(x_train[0].reshape(144,144), cmap=\"Greys\")\n",
    "plt.show()"
   ]
  },
  {
   "cell_type": "code",
   "execution_count": 82,
   "metadata": {
    "scrolled": true
   },
   "outputs": [
    {
     "data": {
      "image/png": "[encoded data removed]",
      "text/plain": [
       "<matplotlib.figure.Figure at 0x7f3f544e3eb8>"
      ]
     },
     "metadata": {},
     "output_type": "display_data"
    }
   ],
   "source": [
    "plt.plot(model.predict(x_test)[0])\n",
    "plt.show()"
   ]
  },
  {
   "cell_type": "code",
   "execution_count": 83,
   "metadata": {},
   "outputs": [
    {
     "data": {
      "image/png": "[encoded data removed]",
      "text/plain": [
       "<matplotlib.figure.Figure at 0x7f3f5452b518>"
      ]
     },
     "metadata": {},
     "output_type": "display_data"
    }
   ],
   "source": [
    "plt.plot(y_test[0])\n",
    "plt.show()"
   ]
  },
  {
   "cell_type": "code",
   "execution_count": null,
   "metadata": {
    "collapsed": true
   },
   "outputs": [],
   "source": []
  }
 ],
 "metadata": {
  "kernelspec": {
   "display_name": "Python 3",
   "language": "python",
   "name": "python3"
  },
  "language_info": {
   "codemirror_mode": {
    "name": "ipython",
    "version": 3
   },
   "file_extension": ".py",
   "mimetype": "text/x-python",
   "name": "python",
   "nbconvert_exporter": "python",
   "pygments_lexer": "ipython3",
   "version": "3.5.4"
  }
 },
 "nbformat": 4,
 "nbformat_minor": 2
}
